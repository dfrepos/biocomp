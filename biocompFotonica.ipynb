{
  "nbformat": 4,
  "nbformat_minor": 0,
  "metadata": {
    "colab": {
      "name": "biocompFotonica.ipynb",
      "provenance": [],
      "authorship_tag": "ABX9TyPgYzgje/vv6N2ynPChWZjr",
      "include_colab_link": true
    },
    "kernelspec": {
      "name": "python3",
      "display_name": "Python 3"
    },
    "language_info": {
      "name": "python"
    }
  },
  "cells": [
    {
      "cell_type": "markdown",
      "metadata": {
        "id": "view-in-github",
        "colab_type": "text"
      },
      "source": [
        "<a href=\"https://colab.research.google.com/github/dfrepos/biocomp/blob/main/biocompFotonica.ipynb\" target=\"_parent\"><img src=\"https://colab.research.google.com/assets/colab-badge.svg\" alt=\"Open In Colab\"/></a>"
      ]
    },
    {
      "cell_type": "markdown",
      "metadata": {
        "id": "fQJ9cbr41e1L"
      },
      "source": [
        "# **Modelagem de Rede Neural Artificial para substituição de simulação de dispositivos fotônicos.**\n",
        "Este notebook carrega a base de dados simulados numericamente, que estão hospedados no github. \n",
        "Para mais informações sobre como foram gerados os indivíduos aleatórios, acessar [este](https://docs.google.com/document/d/1oPG2PWgAsiPtcvPfIa2L_S_nJEU16c26hBEiFvPiMo4/edit?usp=sharing) documento."
      ]
    },
    {
      "cell_type": "markdown",
      "metadata": {
        "id": "30LJlseXprvJ"
      },
      "source": [
        "# Importando Bibliotecas"
      ]
    },
    {
      "cell_type": "code",
      "metadata": {
        "id": "2WbGN2w9pqfo"
      },
      "source": [
        "import pandas as pd\n",
        "import tensorflow as tf\n",
        "from tensorflow import keras\n",
        "from keras.models import Sequential\n",
        "from keras.layers import Activation,Dense\n",
        "from keras.optimizers import Adam\n",
        "from keras.metrics import categorical_crossentropy\n",
        "\n"
      ],
      "execution_count": 2,
      "outputs": []
    },
    {
      "cell_type": "markdown",
      "metadata": {
        "id": "a-v-VdTHs6NT"
      },
      "source": [
        "# Importando base de dados\n",
        "Os dados são importados para um DataFrame com a seguinte estrutura\n",
        "\n",
        "[Lower1550, Lower2000, Upper1550, Upper2000, elemento_1, elemento_2, ..., elemento_600]"
      ]
    },
    {
      "cell_type": "code",
      "metadata": {
        "id": "QmAYSQB11b_R"
      },
      "source": [
        "df = pd.read_csv('https://github.com/dfrepos/biocomp/blob/main/results280121.csv?raw=true') #dfrprojects\n"
      ],
      "execution_count": 3,
      "outputs": []
    },
    {
      "cell_type": "code",
      "metadata": {
        "colab": {
          "base_uri": "https://localhost:8080/"
        },
        "id": "HZXDg_UehjrP",
        "outputId": "108b5a8b-5888-4e00-ef9d-76f2e4aadf7c"
      },
      "source": [
        "df.shape"
      ],
      "execution_count": 4,
      "outputs": [
        {
          "output_type": "execute_result",
          "data": {
            "text/plain": [
              "(10000, 604)"
            ]
          },
          "metadata": {
            "tags": []
          },
          "execution_count": 4
        }
      ]
    },
    {
      "cell_type": "markdown",
      "metadata": {
        "id": "_gYlWFpviVvQ"
      },
      "source": [
        "Reduzindo em 90% o tamanho do dataset para testar o modelo"
      ]
    },
    {
      "cell_type": "code",
      "metadata": {
        "id": "7FAYQPusiLcL"
      },
      "source": [
        "df = df.sample(frac=0.1, random_state=1337)"
      ],
      "execution_count": 9,
      "outputs": []
    },
    {
      "cell_type": "markdown",
      "metadata": {
        "id": "X0gd_q_ahy31"
      },
      "source": [
        "Separando o dataset em set de treino e de validação"
      ]
    },
    {
      "cell_type": "code",
      "metadata": {
        "colab": {
          "base_uri": "https://localhost:8080/"
        },
        "id": "m2ArHP2uhxR_",
        "outputId": "d22aee54-479c-4cf6-b2e4-71b231a480c9"
      },
      "source": [
        "val_df = df.sample(frac=0.2, random_state=1337)\n",
        "train_df = df.drop(val_df.index)\n",
        "\n",
        "print(\n",
        "    \"Using %d samples for training and %d for validation\"\n",
        "    % (len(train_df), len(val_df))\n",
        ")"
      ],
      "execution_count": 11,
      "outputs": [
        {
          "output_type": "stream",
          "text": [
            "Using 160 samples for training and 40 for validation\n"
          ],
          "name": "stdout"
        }
      ]
    },
    {
      "cell_type": "markdown",
      "metadata": {
        "id": "O9ragotF3FRZ"
      },
      "source": [
        "# Rede Neural Artificial (em desenvolvimento)"
      ]
    },
    {
      "cell_type": "markdown",
      "metadata": {
        "id": "Lr8T4O0ICZMp"
      },
      "source": [
        "Fazer:\n",
        "- Entender qual o formato da entrada RNA e adaptar do formato do DataFrame (variável df)\n",
        "- Definir arquitetura das camadas ocultas (a entrada tem 600 e a saída 4)"
      ]
    },
    {
      "cell_type": "markdown",
      "metadata": {
        "id": "T0VbdZOT3WF9"
      },
      "source": [
        "## Definindo os datasets de treinamento e de teste"
      ]
    },
    {
      "cell_type": "code",
      "metadata": {
        "id": "JVTLZb5T3Vp5"
      },
      "source": [
        "X_train = df.iloc[0:500,4:].values.tolist()\n",
        "Y_train = df.iloc[0:500,0:4].values.tolist()\n",
        "X_test = df.iloc[500:1500,4:].values.tolist()\n",
        "Y_test = df.iloc[500:1500,4:].values.tolist()"
      ],
      "execution_count": 61,
      "outputs": []
    },
    {
      "cell_type": "code",
      "metadata": {
        "id": "ej0LdXZ_pQOM"
      },
      "source": [
        "def df_to_dataset(df):\n",
        "    df = df.copy()\n",
        "    labels = df.pop(\"Lower1550\")\n",
        "    ds = tf.data.Dataset.from_tensor_slices((dict(df), labels))\n",
        "    ds = ds.shuffle(buffer_size=len(df))\n",
        "    return ds\n",
        "    \n",
        "train_ds = df_to_dataset(train_df)\n",
        "val_ds = df_to_dataset(val_df)"
      ],
      "execution_count": 14,
      "outputs": []
    },
    {
      "cell_type": "code",
      "metadata": {
        "colab": {
          "base_uri": "https://localhost:8080/"
        },
        "id": "VMrfftORo41k",
        "outputId": "34553163-ef7c-4504-8b9b-e1ddb45c780d"
      },
      "source": [
        "for x, y in train_ds.take(1):\n",
        "    print(\"Input:\", x)\n",
        "    print(\"Target:\", y)"
      ],
      "execution_count": 15,
      "outputs": [
        {
          "output_type": "stream",
          "text": [
            "Input: {'Lower2000': <tf.Tensor: shape=(), dtype=float64, numpy=0.0367557771933895>, 'Upper1550': <tf.Tensor: shape=(), dtype=float64, numpy=0.0218241828073136>, 'Upper2000': <tf.Tensor: shape=(), dtype=float64, numpy=0.0238984507484357>, 'elemento_1': <tf.Tensor: shape=(), dtype=int64, numpy=0>, 'elemento_2': <tf.Tensor: shape=(), dtype=int64, numpy=1>, 'elemento_3': <tf.Tensor: shape=(), dtype=int64, numpy=1>, 'elemento_4': <tf.Tensor: shape=(), dtype=int64, numpy=1>, 'elemento_5': <tf.Tensor: shape=(), dtype=int64, numpy=1>, 'elemento_6': <tf.Tensor: shape=(), dtype=int64, numpy=0>, 'elemento_7': <tf.Tensor: shape=(), dtype=int64, numpy=1>, 'elemento_8': <tf.Tensor: shape=(), dtype=int64, numpy=1>, 'elemento_9': <tf.Tensor: shape=(), dtype=int64, numpy=1>, 'elemento_10': <tf.Tensor: shape=(), dtype=int64, numpy=1>, 'elemento_11': <tf.Tensor: shape=(), dtype=int64, numpy=1>, 'elemento_12': <tf.Tensor: shape=(), dtype=int64, numpy=1>, 'elemento_13': <tf.Tensor: shape=(), dtype=int64, numpy=1>, 'elemento_14': <tf.Tensor: shape=(), dtype=int64, numpy=0>, 'elemento_15': <tf.Tensor: shape=(), dtype=int64, numpy=1>, 'elemento_16': <tf.Tensor: shape=(), dtype=int64, numpy=0>, 'elemento_17': <tf.Tensor: shape=(), dtype=int64, numpy=1>, 'elemento_18': <tf.Tensor: shape=(), dtype=int64, numpy=1>, 'elemento_19': <tf.Tensor: shape=(), dtype=int64, numpy=0>, 'elemento_20': <tf.Tensor: shape=(), dtype=int64, numpy=1>, 'elemento_21': <tf.Tensor: shape=(), dtype=int64, numpy=1>, 'elemento_22': <tf.Tensor: shape=(), dtype=int64, numpy=1>, 'elemento_23': <tf.Tensor: shape=(), dtype=int64, numpy=0>, 'elemento_24': <tf.Tensor: shape=(), dtype=int64, numpy=1>, 'elemento_25': <tf.Tensor: shape=(), dtype=int64, numpy=0>, 'elemento_26': <tf.Tensor: shape=(), dtype=int64, numpy=1>, 'elemento_27': <tf.Tensor: shape=(), dtype=int64, numpy=1>, 'elemento_28': <tf.Tensor: shape=(), dtype=int64, numpy=1>, 'elemento_29': <tf.Tensor: shape=(), dtype=int64, numpy=1>, 'elemento_30': <tf.Tensor: shape=(), dtype=int64, numpy=1>, 'elemento_31': <tf.Tensor: shape=(), dtype=int64, numpy=0>, 'elemento_32': <tf.Tensor: shape=(), dtype=int64, numpy=0>, 'elemento_33': <tf.Tensor: shape=(), dtype=int64, numpy=1>, 'elemento_34': <tf.Tensor: shape=(), dtype=int64, numpy=1>, 'elemento_35': <tf.Tensor: shape=(), dtype=int64, numpy=1>, 'elemento_36': <tf.Tensor: shape=(), dtype=int64, numpy=1>, 'elemento_37': <tf.Tensor: shape=(), dtype=int64, numpy=1>, 'elemento_38': <tf.Tensor: shape=(), dtype=int64, numpy=1>, 'elemento_39': <tf.Tensor: shape=(), dtype=int64, numpy=1>, 'elemento_40': <tf.Tensor: shape=(), dtype=int64, numpy=1>, 'elemento_41': <tf.Tensor: shape=(), dtype=int64, numpy=1>, 'elemento_42': <tf.Tensor: shape=(), dtype=int64, numpy=1>, 'elemento_43': <tf.Tensor: shape=(), dtype=int64, numpy=1>, 'elemento_44': <tf.Tensor: shape=(), dtype=int64, numpy=1>, 'elemento_45': <tf.Tensor: shape=(), dtype=int64, numpy=1>, 'elemento_46': <tf.Tensor: shape=(), dtype=int64, numpy=1>, 'elemento_47': <tf.Tensor: shape=(), dtype=int64, numpy=0>, 'elemento_48': <tf.Tensor: shape=(), dtype=int64, numpy=1>, 'elemento_49': <tf.Tensor: shape=(), dtype=int64, numpy=1>, 'elemento_50': <tf.Tensor: shape=(), dtype=int64, numpy=1>, 'elemento_51': <tf.Tensor: shape=(), dtype=int64, numpy=1>, 'elemento_52': <tf.Tensor: shape=(), dtype=int64, numpy=0>, 'elemento_53': <tf.Tensor: shape=(), dtype=int64, numpy=1>, 'elemento_54': <tf.Tensor: shape=(), dtype=int64, numpy=1>, 'elemento_55': <tf.Tensor: shape=(), dtype=int64, numpy=1>, 'elemento_56': <tf.Tensor: shape=(), dtype=int64, numpy=1>, 'elemento_57': <tf.Tensor: shape=(), dtype=int64, numpy=1>, 'elemento_58': <tf.Tensor: shape=(), dtype=int64, numpy=0>, 'elemento_59': <tf.Tensor: shape=(), dtype=int64, numpy=1>, 'elemento_60': <tf.Tensor: shape=(), dtype=int64, numpy=0>, 'elemento_61': <tf.Tensor: shape=(), dtype=int64, numpy=0>, 'elemento_62': <tf.Tensor: shape=(), dtype=int64, numpy=0>, 'elemento_63': <tf.Tensor: shape=(), dtype=int64, numpy=0>, 'elemento_64': <tf.Tensor: shape=(), dtype=int64, numpy=1>, 'elemento_65': <tf.Tensor: shape=(), dtype=int64, numpy=1>, 'elemento_66': <tf.Tensor: shape=(), dtype=int64, numpy=1>, 'elemento_67': <tf.Tensor: shape=(), dtype=int64, numpy=1>, 'elemento_68': <tf.Tensor: shape=(), dtype=int64, numpy=1>, 'elemento_69': <tf.Tensor: shape=(), dtype=int64, numpy=1>, 'elemento_70': <tf.Tensor: shape=(), dtype=int64, numpy=1>, 'elemento_71': <tf.Tensor: shape=(), dtype=int64, numpy=1>, 'elemento_72': <tf.Tensor: shape=(), dtype=int64, numpy=1>, 'elemento_73': <tf.Tensor: shape=(), dtype=int64, numpy=1>, 'elemento_74': <tf.Tensor: shape=(), dtype=int64, numpy=1>, 'elemento_75': <tf.Tensor: shape=(), dtype=int64, numpy=1>, 'elemento_76': <tf.Tensor: shape=(), dtype=int64, numpy=1>, 'elemento_77': <tf.Tensor: shape=(), dtype=int64, numpy=1>, 'elemento_78': <tf.Tensor: shape=(), dtype=int64, numpy=1>, 'elemento_79': <tf.Tensor: shape=(), dtype=int64, numpy=0>, 'elemento_80': <tf.Tensor: shape=(), dtype=int64, numpy=0>, 'elemento_81': <tf.Tensor: shape=(), dtype=int64, numpy=1>, 'elemento_82': <tf.Tensor: shape=(), dtype=int64, numpy=1>, 'elemento_83': <tf.Tensor: shape=(), dtype=int64, numpy=1>, 'elemento_84': <tf.Tensor: shape=(), dtype=int64, numpy=0>, 'elemento_85': <tf.Tensor: shape=(), dtype=int64, numpy=1>, 'elemento_86': <tf.Tensor: shape=(), dtype=int64, numpy=1>, 'elemento_87': <tf.Tensor: shape=(), dtype=int64, numpy=1>, 'elemento_88': <tf.Tensor: shape=(), dtype=int64, numpy=1>, 'elemento_89': <tf.Tensor: shape=(), dtype=int64, numpy=1>, 'elemento_90': <tf.Tensor: shape=(), dtype=int64, numpy=0>, 'elemento_91': <tf.Tensor: shape=(), dtype=int64, numpy=1>, 'elemento_92': <tf.Tensor: shape=(), dtype=int64, numpy=1>, 'elemento_93': <tf.Tensor: shape=(), dtype=int64, numpy=1>, 'elemento_94': <tf.Tensor: shape=(), dtype=int64, numpy=1>, 'elemento_95': <tf.Tensor: shape=(), dtype=int64, numpy=1>, 'elemento_96': <tf.Tensor: shape=(), dtype=int64, numpy=1>, 'elemento_97': <tf.Tensor: shape=(), dtype=int64, numpy=1>, 'elemento_98': <tf.Tensor: shape=(), dtype=int64, numpy=0>, 'elemento_99': <tf.Tensor: shape=(), dtype=int64, numpy=0>, 'elemento_100': <tf.Tensor: shape=(), dtype=int64, numpy=0>, 'elemento_101': <tf.Tensor: shape=(), dtype=int64, numpy=1>, 'elemento_102': <tf.Tensor: shape=(), dtype=int64, numpy=0>, 'elemento_103': <tf.Tensor: shape=(), dtype=int64, numpy=1>, 'elemento_104': <tf.Tensor: shape=(), dtype=int64, numpy=1>, 'elemento_105': <tf.Tensor: shape=(), dtype=int64, numpy=0>, 'elemento_106': <tf.Tensor: shape=(), dtype=int64, numpy=0>, 'elemento_107': <tf.Tensor: shape=(), dtype=int64, numpy=1>, 'elemento_108': <tf.Tensor: shape=(), dtype=int64, numpy=1>, 'elemento_109': <tf.Tensor: shape=(), dtype=int64, numpy=1>, 'elemento_110': <tf.Tensor: shape=(), dtype=int64, numpy=1>, 'elemento_111': <tf.Tensor: shape=(), dtype=int64, numpy=1>, 'elemento_112': <tf.Tensor: shape=(), dtype=int64, numpy=1>, 'elemento_113': <tf.Tensor: shape=(), dtype=int64, numpy=1>, 'elemento_114': <tf.Tensor: shape=(), dtype=int64, numpy=1>, 'elemento_115': <tf.Tensor: shape=(), dtype=int64, numpy=1>, 'elemento_116': <tf.Tensor: shape=(), dtype=int64, numpy=0>, 'elemento_117': <tf.Tensor: shape=(), dtype=int64, numpy=1>, 'elemento_118': <tf.Tensor: shape=(), dtype=int64, numpy=1>, 'elemento_119': <tf.Tensor: shape=(), dtype=int64, numpy=1>, 'elemento_120': <tf.Tensor: shape=(), dtype=int64, numpy=1>, 'elemento_121': <tf.Tensor: shape=(), dtype=int64, numpy=0>, 'elemento_122': <tf.Tensor: shape=(), dtype=int64, numpy=1>, 'elemento_123': <tf.Tensor: shape=(), dtype=int64, numpy=0>, 'elemento_124': <tf.Tensor: shape=(), dtype=int64, numpy=0>, 'elemento_125': <tf.Tensor: shape=(), dtype=int64, numpy=1>, 'elemento_126': <tf.Tensor: shape=(), dtype=int64, numpy=1>, 'elemento_127': <tf.Tensor: shape=(), dtype=int64, numpy=0>, 'elemento_128': <tf.Tensor: shape=(), dtype=int64, numpy=1>, 'elemento_129': <tf.Tensor: shape=(), dtype=int64, numpy=1>, 'elemento_130': <tf.Tensor: shape=(), dtype=int64, numpy=1>, 'elemento_131': <tf.Tensor: shape=(), dtype=int64, numpy=1>, 'elemento_132': <tf.Tensor: shape=(), dtype=int64, numpy=1>, 'elemento_133': <tf.Tensor: shape=(), dtype=int64, numpy=0>, 'elemento_134': <tf.Tensor: shape=(), dtype=int64, numpy=1>, 'elemento_135': <tf.Tensor: shape=(), dtype=int64, numpy=1>, 'elemento_136': <tf.Tensor: shape=(), dtype=int64, numpy=0>, 'elemento_137': <tf.Tensor: shape=(), dtype=int64, numpy=0>, 'elemento_138': <tf.Tensor: shape=(), dtype=int64, numpy=1>, 'elemento_139': <tf.Tensor: shape=(), dtype=int64, numpy=1>, 'elemento_140': <tf.Tensor: shape=(), dtype=int64, numpy=0>, 'elemento_141': <tf.Tensor: shape=(), dtype=int64, numpy=1>, 'elemento_142': <tf.Tensor: shape=(), dtype=int64, numpy=0>, 'elemento_143': <tf.Tensor: shape=(), dtype=int64, numpy=1>, 'elemento_144': <tf.Tensor: shape=(), dtype=int64, numpy=1>, 'elemento_145': <tf.Tensor: shape=(), dtype=int64, numpy=1>, 'elemento_146': <tf.Tensor: shape=(), dtype=int64, numpy=1>, 'elemento_147': <tf.Tensor: shape=(), dtype=int64, numpy=1>, 'elemento_148': <tf.Tensor: shape=(), dtype=int64, numpy=0>, 'elemento_149': <tf.Tensor: shape=(), dtype=int64, numpy=1>, 'elemento_150': <tf.Tensor: shape=(), dtype=int64, numpy=0>, 'elemento_151': <tf.Tensor: shape=(), dtype=int64, numpy=1>, 'elemento_152': <tf.Tensor: shape=(), dtype=int64, numpy=1>, 'elemento_153': <tf.Tensor: shape=(), dtype=int64, numpy=1>, 'elemento_154': <tf.Tensor: shape=(), dtype=int64, numpy=0>, 'elemento_155': <tf.Tensor: shape=(), dtype=int64, numpy=1>, 'elemento_156': <tf.Tensor: shape=(), dtype=int64, numpy=0>, 'elemento_157': <tf.Tensor: shape=(), dtype=int64, numpy=1>, 'elemento_158': <tf.Tensor: shape=(), dtype=int64, numpy=0>, 'elemento_159': <tf.Tensor: shape=(), dtype=int64, numpy=0>, 'elemento_160': <tf.Tensor: shape=(), dtype=int64, numpy=0>, 'elemento_161': <tf.Tensor: shape=(), dtype=int64, numpy=1>, 'elemento_162': <tf.Tensor: shape=(), dtype=int64, numpy=1>, 'elemento_163': <tf.Tensor: shape=(), dtype=int64, numpy=1>, 'elemento_164': <tf.Tensor: shape=(), dtype=int64, numpy=1>, 'elemento_165': <tf.Tensor: shape=(), dtype=int64, numpy=0>, 'elemento_166': <tf.Tensor: shape=(), dtype=int64, numpy=1>, 'elemento_167': <tf.Tensor: shape=(), dtype=int64, numpy=1>, 'elemento_168': <tf.Tensor: shape=(), dtype=int64, numpy=1>, 'elemento_169': <tf.Tensor: shape=(), dtype=int64, numpy=1>, 'elemento_170': <tf.Tensor: shape=(), dtype=int64, numpy=1>, 'elemento_171': <tf.Tensor: shape=(), dtype=int64, numpy=1>, 'elemento_172': <tf.Tensor: shape=(), dtype=int64, numpy=1>, 'elemento_173': <tf.Tensor: shape=(), dtype=int64, numpy=1>, 'elemento_174': <tf.Tensor: shape=(), dtype=int64, numpy=1>, 'elemento_175': <tf.Tensor: shape=(), dtype=int64, numpy=1>, 'elemento_176': <tf.Tensor: shape=(), dtype=int64, numpy=0>, 'elemento_177': <tf.Tensor: shape=(), dtype=int64, numpy=1>, 'elemento_178': <tf.Tensor: shape=(), dtype=int64, numpy=0>, 'elemento_179': <tf.Tensor: shape=(), dtype=int64, numpy=1>, 'elemento_180': <tf.Tensor: shape=(), dtype=int64, numpy=1>, 'elemento_181': <tf.Tensor: shape=(), dtype=int64, numpy=1>, 'elemento_182': <tf.Tensor: shape=(), dtype=int64, numpy=0>, 'elemento_183': <tf.Tensor: shape=(), dtype=int64, numpy=0>, 'elemento_184': <tf.Tensor: shape=(), dtype=int64, numpy=1>, 'elemento_185': <tf.Tensor: shape=(), dtype=int64, numpy=1>, 'elemento_186': <tf.Tensor: shape=(), dtype=int64, numpy=0>, 'elemento_187': <tf.Tensor: shape=(), dtype=int64, numpy=1>, 'elemento_188': <tf.Tensor: shape=(), dtype=int64, numpy=1>, 'elemento_189': <tf.Tensor: shape=(), dtype=int64, numpy=1>, 'elemento_190': <tf.Tensor: shape=(), dtype=int64, numpy=0>, 'elemento_191': <tf.Tensor: shape=(), dtype=int64, numpy=1>, 'elemento_192': <tf.Tensor: shape=(), dtype=int64, numpy=1>, 'elemento_193': <tf.Tensor: shape=(), dtype=int64, numpy=1>, 'elemento_194': <tf.Tensor: shape=(), dtype=int64, numpy=0>, 'elemento_195': <tf.Tensor: shape=(), dtype=int64, numpy=1>, 'elemento_196': <tf.Tensor: shape=(), dtype=int64, numpy=1>, 'elemento_197': <tf.Tensor: shape=(), dtype=int64, numpy=1>, 'elemento_198': <tf.Tensor: shape=(), dtype=int64, numpy=1>, 'elemento_199': <tf.Tensor: shape=(), dtype=int64, numpy=1>, 'elemento_200': <tf.Tensor: shape=(), dtype=int64, numpy=0>, 'elemento_201': <tf.Tensor: shape=(), dtype=int64, numpy=1>, 'elemento_202': <tf.Tensor: shape=(), dtype=int64, numpy=1>, 'elemento_203': <tf.Tensor: shape=(), dtype=int64, numpy=0>, 'elemento_204': <tf.Tensor: shape=(), dtype=int64, numpy=1>, 'elemento_205': <tf.Tensor: shape=(), dtype=int64, numpy=1>, 'elemento_206': <tf.Tensor: shape=(), dtype=int64, numpy=0>, 'elemento_207': <tf.Tensor: shape=(), dtype=int64, numpy=1>, 'elemento_208': <tf.Tensor: shape=(), dtype=int64, numpy=1>, 'elemento_209': <tf.Tensor: shape=(), dtype=int64, numpy=1>, 'elemento_210': <tf.Tensor: shape=(), dtype=int64, numpy=1>, 'elemento_211': <tf.Tensor: shape=(), dtype=int64, numpy=1>, 'elemento_212': <tf.Tensor: shape=(), dtype=int64, numpy=1>, 'elemento_213': <tf.Tensor: shape=(), dtype=int64, numpy=1>, 'elemento_214': <tf.Tensor: shape=(), dtype=int64, numpy=1>, 'elemento_215': <tf.Tensor: shape=(), dtype=int64, numpy=0>, 'elemento_216': <tf.Tensor: shape=(), dtype=int64, numpy=0>, 'elemento_217': <tf.Tensor: shape=(), dtype=int64, numpy=1>, 'elemento_218': <tf.Tensor: shape=(), dtype=int64, numpy=1>, 'elemento_219': <tf.Tensor: shape=(), dtype=int64, numpy=1>, 'elemento_220': <tf.Tensor: shape=(), dtype=int64, numpy=1>, 'elemento_221': <tf.Tensor: shape=(), dtype=int64, numpy=0>, 'elemento_222': <tf.Tensor: shape=(), dtype=int64, numpy=1>, 'elemento_223': <tf.Tensor: shape=(), dtype=int64, numpy=1>, 'elemento_224': <tf.Tensor: shape=(), dtype=int64, numpy=1>, 'elemento_225': <tf.Tensor: shape=(), dtype=int64, numpy=1>, 'elemento_226': <tf.Tensor: shape=(), dtype=int64, numpy=1>, 'elemento_227': <tf.Tensor: shape=(), dtype=int64, numpy=1>, 'elemento_228': <tf.Tensor: shape=(), dtype=int64, numpy=1>, 'elemento_229': <tf.Tensor: shape=(), dtype=int64, numpy=1>, 'elemento_230': <tf.Tensor: shape=(), dtype=int64, numpy=1>, 'elemento_231': <tf.Tensor: shape=(), dtype=int64, numpy=0>, 'elemento_232': <tf.Tensor: shape=(), dtype=int64, numpy=1>, 'elemento_233': <tf.Tensor: shape=(), dtype=int64, numpy=1>, 'elemento_234': <tf.Tensor: shape=(), dtype=int64, numpy=0>, 'elemento_235': <tf.Tensor: shape=(), dtype=int64, numpy=0>, 'elemento_236': <tf.Tensor: shape=(), dtype=int64, numpy=0>, 'elemento_237': <tf.Tensor: shape=(), dtype=int64, numpy=1>, 'elemento_238': <tf.Tensor: shape=(), dtype=int64, numpy=1>, 'elemento_239': <tf.Tensor: shape=(), dtype=int64, numpy=1>, 'elemento_240': <tf.Tensor: shape=(), dtype=int64, numpy=1>, 'elemento_241': <tf.Tensor: shape=(), dtype=int64, numpy=1>, 'elemento_242': <tf.Tensor: shape=(), dtype=int64, numpy=1>, 'elemento_243': <tf.Tensor: shape=(), dtype=int64, numpy=1>, 'elemento_244': <tf.Tensor: shape=(), dtype=int64, numpy=1>, 'elemento_245': <tf.Tensor: shape=(), dtype=int64, numpy=1>, 'elemento_246': <tf.Tensor: shape=(), dtype=int64, numpy=0>, 'elemento_247': <tf.Tensor: shape=(), dtype=int64, numpy=1>, 'elemento_248': <tf.Tensor: shape=(), dtype=int64, numpy=0>, 'elemento_249': <tf.Tensor: shape=(), dtype=int64, numpy=1>, 'elemento_250': <tf.Tensor: shape=(), dtype=int64, numpy=1>, 'elemento_251': <tf.Tensor: shape=(), dtype=int64, numpy=1>, 'elemento_252': <tf.Tensor: shape=(), dtype=int64, numpy=0>, 'elemento_253': <tf.Tensor: shape=(), dtype=int64, numpy=1>, 'elemento_254': <tf.Tensor: shape=(), dtype=int64, numpy=0>, 'elemento_255': <tf.Tensor: shape=(), dtype=int64, numpy=1>, 'elemento_256': <tf.Tensor: shape=(), dtype=int64, numpy=1>, 'elemento_257': <tf.Tensor: shape=(), dtype=int64, numpy=1>, 'elemento_258': <tf.Tensor: shape=(), dtype=int64, numpy=1>, 'elemento_259': <tf.Tensor: shape=(), dtype=int64, numpy=1>, 'elemento_260': <tf.Tensor: shape=(), dtype=int64, numpy=1>, 'elemento_261': <tf.Tensor: shape=(), dtype=int64, numpy=1>, 'elemento_262': <tf.Tensor: shape=(), dtype=int64, numpy=1>, 'elemento_263': <tf.Tensor: shape=(), dtype=int64, numpy=1>, 'elemento_264': <tf.Tensor: shape=(), dtype=int64, numpy=0>, 'elemento_265': <tf.Tensor: shape=(), dtype=int64, numpy=0>, 'elemento_266': <tf.Tensor: shape=(), dtype=int64, numpy=1>, 'elemento_267': <tf.Tensor: shape=(), dtype=int64, numpy=1>, 'elemento_268': <tf.Tensor: shape=(), dtype=int64, numpy=1>, 'elemento_269': <tf.Tensor: shape=(), dtype=int64, numpy=1>, 'elemento_270': <tf.Tensor: shape=(), dtype=int64, numpy=1>, 'elemento_271': <tf.Tensor: shape=(), dtype=int64, numpy=1>, 'elemento_272': <tf.Tensor: shape=(), dtype=int64, numpy=0>, 'elemento_273': <tf.Tensor: shape=(), dtype=int64, numpy=1>, 'elemento_274': <tf.Tensor: shape=(), dtype=int64, numpy=0>, 'elemento_275': <tf.Tensor: shape=(), dtype=int64, numpy=1>, 'elemento_276': <tf.Tensor: shape=(), dtype=int64, numpy=0>, 'elemento_277': <tf.Tensor: shape=(), dtype=int64, numpy=1>, 'elemento_278': <tf.Tensor: shape=(), dtype=int64, numpy=1>, 'elemento_279': <tf.Tensor: shape=(), dtype=int64, numpy=1>, 'elemento_280': <tf.Tensor: shape=(), dtype=int64, numpy=1>, 'elemento_281': <tf.Tensor: shape=(), dtype=int64, numpy=1>, 'elemento_282': <tf.Tensor: shape=(), dtype=int64, numpy=1>, 'elemento_283': <tf.Tensor: shape=(), dtype=int64, numpy=1>, 'elemento_284': <tf.Tensor: shape=(), dtype=int64, numpy=1>, 'elemento_285': <tf.Tensor: shape=(), dtype=int64, numpy=1>, 'elemento_286': <tf.Tensor: shape=(), dtype=int64, numpy=0>, 'elemento_287': <tf.Tensor: shape=(), dtype=int64, numpy=1>, 'elemento_288': <tf.Tensor: shape=(), dtype=int64, numpy=1>, 'elemento_289': <tf.Tensor: shape=(), dtype=int64, numpy=1>, 'elemento_290': <tf.Tensor: shape=(), dtype=int64, numpy=0>, 'elemento_291': <tf.Tensor: shape=(), dtype=int64, numpy=0>, 'elemento_292': <tf.Tensor: shape=(), dtype=int64, numpy=1>, 'elemento_293': <tf.Tensor: shape=(), dtype=int64, numpy=1>, 'elemento_294': <tf.Tensor: shape=(), dtype=int64, numpy=1>, 'elemento_295': <tf.Tensor: shape=(), dtype=int64, numpy=1>, 'elemento_296': <tf.Tensor: shape=(), dtype=int64, numpy=1>, 'elemento_297': <tf.Tensor: shape=(), dtype=int64, numpy=1>, 'elemento_298': <tf.Tensor: shape=(), dtype=int64, numpy=0>, 'elemento_299': <tf.Tensor: shape=(), dtype=int64, numpy=0>, 'elemento_300': <tf.Tensor: shape=(), dtype=int64, numpy=1>, 'elemento_301': <tf.Tensor: shape=(), dtype=int64, numpy=1>, 'elemento_302': <tf.Tensor: shape=(), dtype=int64, numpy=1>, 'elemento_303': <tf.Tensor: shape=(), dtype=int64, numpy=0>, 'elemento_304': <tf.Tensor: shape=(), dtype=int64, numpy=1>, 'elemento_305': <tf.Tensor: shape=(), dtype=int64, numpy=1>, 'elemento_306': <tf.Tensor: shape=(), dtype=int64, numpy=1>, 'elemento_307': <tf.Tensor: shape=(), dtype=int64, numpy=1>, 'elemento_308': <tf.Tensor: shape=(), dtype=int64, numpy=1>, 'elemento_309': <tf.Tensor: shape=(), dtype=int64, numpy=1>, 'elemento_310': <tf.Tensor: shape=(), dtype=int64, numpy=1>, 'elemento_311': <tf.Tensor: shape=(), dtype=int64, numpy=1>, 'elemento_312': <tf.Tensor: shape=(), dtype=int64, numpy=1>, 'elemento_313': <tf.Tensor: shape=(), dtype=int64, numpy=1>, 'elemento_314': <tf.Tensor: shape=(), dtype=int64, numpy=1>, 'elemento_315': <tf.Tensor: shape=(), dtype=int64, numpy=1>, 'elemento_316': <tf.Tensor: shape=(), dtype=int64, numpy=1>, 'elemento_317': <tf.Tensor: shape=(), dtype=int64, numpy=1>, 'elemento_318': <tf.Tensor: shape=(), dtype=int64, numpy=1>, 'elemento_319': <tf.Tensor: shape=(), dtype=int64, numpy=1>, 'elemento_320': <tf.Tensor: shape=(), dtype=int64, numpy=1>, 'elemento_321': <tf.Tensor: shape=(), dtype=int64, numpy=1>, 'elemento_322': <tf.Tensor: shape=(), dtype=int64, numpy=1>, 'elemento_323': <tf.Tensor: shape=(), dtype=int64, numpy=1>, 'elemento_324': <tf.Tensor: shape=(), dtype=int64, numpy=0>, 'elemento_325': <tf.Tensor: shape=(), dtype=int64, numpy=0>, 'elemento_326': <tf.Tensor: shape=(), dtype=int64, numpy=1>, 'elemento_327': <tf.Tensor: shape=(), dtype=int64, numpy=1>, 'elemento_328': <tf.Tensor: shape=(), dtype=int64, numpy=1>, 'elemento_329': <tf.Tensor: shape=(), dtype=int64, numpy=0>, 'elemento_330': <tf.Tensor: shape=(), dtype=int64, numpy=1>, 'elemento_331': <tf.Tensor: shape=(), dtype=int64, numpy=1>, 'elemento_332': <tf.Tensor: shape=(), dtype=int64, numpy=1>, 'elemento_333': <tf.Tensor: shape=(), dtype=int64, numpy=0>, 'elemento_334': <tf.Tensor: shape=(), dtype=int64, numpy=0>, 'elemento_335': <tf.Tensor: shape=(), dtype=int64, numpy=1>, 'elemento_336': <tf.Tensor: shape=(), dtype=int64, numpy=1>, 'elemento_337': <tf.Tensor: shape=(), dtype=int64, numpy=0>, 'elemento_338': <tf.Tensor: shape=(), dtype=int64, numpy=1>, 'elemento_339': <tf.Tensor: shape=(), dtype=int64, numpy=1>, 'elemento_340': <tf.Tensor: shape=(), dtype=int64, numpy=0>, 'elemento_341': <tf.Tensor: shape=(), dtype=int64, numpy=1>, 'elemento_342': <tf.Tensor: shape=(), dtype=int64, numpy=0>, 'elemento_343': <tf.Tensor: shape=(), dtype=int64, numpy=1>, 'elemento_344': <tf.Tensor: shape=(), dtype=int64, numpy=0>, 'elemento_345': <tf.Tensor: shape=(), dtype=int64, numpy=0>, 'elemento_346': <tf.Tensor: shape=(), dtype=int64, numpy=0>, 'elemento_347': <tf.Tensor: shape=(), dtype=int64, numpy=1>, 'elemento_348': <tf.Tensor: shape=(), dtype=int64, numpy=0>, 'elemento_349': <tf.Tensor: shape=(), dtype=int64, numpy=0>, 'elemento_350': <tf.Tensor: shape=(), dtype=int64, numpy=0>, 'elemento_351': <tf.Tensor: shape=(), dtype=int64, numpy=0>, 'elemento_352': <tf.Tensor: shape=(), dtype=int64, numpy=1>, 'elemento_353': <tf.Tensor: shape=(), dtype=int64, numpy=1>, 'elemento_354': <tf.Tensor: shape=(), dtype=int64, numpy=1>, 'elemento_355': <tf.Tensor: shape=(), dtype=int64, numpy=1>, 'elemento_356': <tf.Tensor: shape=(), dtype=int64, numpy=1>, 'elemento_357': <tf.Tensor: shape=(), dtype=int64, numpy=1>, 'elemento_358': <tf.Tensor: shape=(), dtype=int64, numpy=1>, 'elemento_359': <tf.Tensor: shape=(), dtype=int64, numpy=1>, 'elemento_360': <tf.Tensor: shape=(), dtype=int64, numpy=1>, 'elemento_361': <tf.Tensor: shape=(), dtype=int64, numpy=1>, 'elemento_362': <tf.Tensor: shape=(), dtype=int64, numpy=1>, 'elemento_363': <tf.Tensor: shape=(), dtype=int64, numpy=0>, 'elemento_364': <tf.Tensor: shape=(), dtype=int64, numpy=1>, 'elemento_365': <tf.Tensor: shape=(), dtype=int64, numpy=1>, 'elemento_366': <tf.Tensor: shape=(), dtype=int64, numpy=1>, 'elemento_367': <tf.Tensor: shape=(), dtype=int64, numpy=1>, 'elemento_368': <tf.Tensor: shape=(), dtype=int64, numpy=1>, 'elemento_369': <tf.Tensor: shape=(), dtype=int64, numpy=1>, 'elemento_370': <tf.Tensor: shape=(), dtype=int64, numpy=1>, 'elemento_371': <tf.Tensor: shape=(), dtype=int64, numpy=1>, 'elemento_372': <tf.Tensor: shape=(), dtype=int64, numpy=1>, 'elemento_373': <tf.Tensor: shape=(), dtype=int64, numpy=1>, 'elemento_374': <tf.Tensor: shape=(), dtype=int64, numpy=1>, 'elemento_375': <tf.Tensor: shape=(), dtype=int64, numpy=0>, 'elemento_376': <tf.Tensor: shape=(), dtype=int64, numpy=1>, 'elemento_377': <tf.Tensor: shape=(), dtype=int64, numpy=0>, 'elemento_378': <tf.Tensor: shape=(), dtype=int64, numpy=1>, 'elemento_379': <tf.Tensor: shape=(), dtype=int64, numpy=0>, 'elemento_380': <tf.Tensor: shape=(), dtype=int64, numpy=1>, 'elemento_381': <tf.Tensor: shape=(), dtype=int64, numpy=1>, 'elemento_382': <tf.Tensor: shape=(), dtype=int64, numpy=1>, 'elemento_383': <tf.Tensor: shape=(), dtype=int64, numpy=1>, 'elemento_384': <tf.Tensor: shape=(), dtype=int64, numpy=1>, 'elemento_385': <tf.Tensor: shape=(), dtype=int64, numpy=1>, 'elemento_386': <tf.Tensor: shape=(), dtype=int64, numpy=1>, 'elemento_387': <tf.Tensor: shape=(), dtype=int64, numpy=0>, 'elemento_388': <tf.Tensor: shape=(), dtype=int64, numpy=1>, 'elemento_389': <tf.Tensor: shape=(), dtype=int64, numpy=1>, 'elemento_390': <tf.Tensor: shape=(), dtype=int64, numpy=1>, 'elemento_391': <tf.Tensor: shape=(), dtype=int64, numpy=1>, 'elemento_392': <tf.Tensor: shape=(), dtype=int64, numpy=0>, 'elemento_393': <tf.Tensor: shape=(), dtype=int64, numpy=1>, 'elemento_394': <tf.Tensor: shape=(), dtype=int64, numpy=1>, 'elemento_395': <tf.Tensor: shape=(), dtype=int64, numpy=1>, 'elemento_396': <tf.Tensor: shape=(), dtype=int64, numpy=1>, 'elemento_397': <tf.Tensor: shape=(), dtype=int64, numpy=1>, 'elemento_398': <tf.Tensor: shape=(), dtype=int64, numpy=1>, 'elemento_399': <tf.Tensor: shape=(), dtype=int64, numpy=0>, 'elemento_400': <tf.Tensor: shape=(), dtype=int64, numpy=1>, 'elemento_401': <tf.Tensor: shape=(), dtype=int64, numpy=0>, 'elemento_402': <tf.Tensor: shape=(), dtype=int64, numpy=1>, 'elemento_403': <tf.Tensor: shape=(), dtype=int64, numpy=1>, 'elemento_404': <tf.Tensor: shape=(), dtype=int64, numpy=0>, 'elemento_405': <tf.Tensor: shape=(), dtype=int64, numpy=1>, 'elemento_406': <tf.Tensor: shape=(), dtype=int64, numpy=1>, 'elemento_407': <tf.Tensor: shape=(), dtype=int64, numpy=1>, 'elemento_408': <tf.Tensor: shape=(), dtype=int64, numpy=1>, 'elemento_409': <tf.Tensor: shape=(), dtype=int64, numpy=1>, 'elemento_410': <tf.Tensor: shape=(), dtype=int64, numpy=0>, 'elemento_411': <tf.Tensor: shape=(), dtype=int64, numpy=0>, 'elemento_412': <tf.Tensor: shape=(), dtype=int64, numpy=0>, 'elemento_413': <tf.Tensor: shape=(), dtype=int64, numpy=1>, 'elemento_414': <tf.Tensor: shape=(), dtype=int64, numpy=1>, 'elemento_415': <tf.Tensor: shape=(), dtype=int64, numpy=1>, 'elemento_416': <tf.Tensor: shape=(), dtype=int64, numpy=1>, 'elemento_417': <tf.Tensor: shape=(), dtype=int64, numpy=1>, 'elemento_418': <tf.Tensor: shape=(), dtype=int64, numpy=1>, 'elemento_419': <tf.Tensor: shape=(), dtype=int64, numpy=1>, 'elemento_420': <tf.Tensor: shape=(), dtype=int64, numpy=1>, 'elemento_421': <tf.Tensor: shape=(), dtype=int64, numpy=0>, 'elemento_422': <tf.Tensor: shape=(), dtype=int64, numpy=1>, 'elemento_423': <tf.Tensor: shape=(), dtype=int64, numpy=1>, 'elemento_424': <tf.Tensor: shape=(), dtype=int64, numpy=0>, 'elemento_425': <tf.Tensor: shape=(), dtype=int64, numpy=0>, 'elemento_426': <tf.Tensor: shape=(), dtype=int64, numpy=1>, 'elemento_427': <tf.Tensor: shape=(), dtype=int64, numpy=0>, 'elemento_428': <tf.Tensor: shape=(), dtype=int64, numpy=1>, 'elemento_429': <tf.Tensor: shape=(), dtype=int64, numpy=0>, 'elemento_430': <tf.Tensor: shape=(), dtype=int64, numpy=1>, 'elemento_431': <tf.Tensor: shape=(), dtype=int64, numpy=1>, 'elemento_432': <tf.Tensor: shape=(), dtype=int64, numpy=0>, 'elemento_433': <tf.Tensor: shape=(), dtype=int64, numpy=1>, 'elemento_434': <tf.Tensor: shape=(), dtype=int64, numpy=1>, 'elemento_435': <tf.Tensor: shape=(), dtype=int64, numpy=1>, 'elemento_436': <tf.Tensor: shape=(), dtype=int64, numpy=1>, 'elemento_437': <tf.Tensor: shape=(), dtype=int64, numpy=1>, 'elemento_438': <tf.Tensor: shape=(), dtype=int64, numpy=1>, 'elemento_439': <tf.Tensor: shape=(), dtype=int64, numpy=1>, 'elemento_440': <tf.Tensor: shape=(), dtype=int64, numpy=0>, 'elemento_441': <tf.Tensor: shape=(), dtype=int64, numpy=0>, 'elemento_442': <tf.Tensor: shape=(), dtype=int64, numpy=1>, 'elemento_443': <tf.Tensor: shape=(), dtype=int64, numpy=1>, 'elemento_444': <tf.Tensor: shape=(), dtype=int64, numpy=1>, 'elemento_445': <tf.Tensor: shape=(), dtype=int64, numpy=0>, 'elemento_446': <tf.Tensor: shape=(), dtype=int64, numpy=1>, 'elemento_447': <tf.Tensor: shape=(), dtype=int64, numpy=1>, 'elemento_448': <tf.Tensor: shape=(), dtype=int64, numpy=1>, 'elemento_449': <tf.Tensor: shape=(), dtype=int64, numpy=1>, 'elemento_450': <tf.Tensor: shape=(), dtype=int64, numpy=1>, 'elemento_451': <tf.Tensor: shape=(), dtype=int64, numpy=1>, 'elemento_452': <tf.Tensor: shape=(), dtype=int64, numpy=1>, 'elemento_453': <tf.Tensor: shape=(), dtype=int64, numpy=1>, 'elemento_454': <tf.Tensor: shape=(), dtype=int64, numpy=0>, 'elemento_455': <tf.Tensor: shape=(), dtype=int64, numpy=0>, 'elemento_456': <tf.Tensor: shape=(), dtype=int64, numpy=0>, 'elemento_457': <tf.Tensor: shape=(), dtype=int64, numpy=1>, 'elemento_458': <tf.Tensor: shape=(), dtype=int64, numpy=1>, 'elemento_459': <tf.Tensor: shape=(), dtype=int64, numpy=1>, 'elemento_460': <tf.Tensor: shape=(), dtype=int64, numpy=1>, 'elemento_461': <tf.Tensor: shape=(), dtype=int64, numpy=1>, 'elemento_462': <tf.Tensor: shape=(), dtype=int64, numpy=1>, 'elemento_463': <tf.Tensor: shape=(), dtype=int64, numpy=1>, 'elemento_464': <tf.Tensor: shape=(), dtype=int64, numpy=0>, 'elemento_465': <tf.Tensor: shape=(), dtype=int64, numpy=1>, 'elemento_466': <tf.Tensor: shape=(), dtype=int64, numpy=0>, 'elemento_467': <tf.Tensor: shape=(), dtype=int64, numpy=0>, 'elemento_468': <tf.Tensor: shape=(), dtype=int64, numpy=1>, 'elemento_469': <tf.Tensor: shape=(), dtype=int64, numpy=1>, 'elemento_470': <tf.Tensor: shape=(), dtype=int64, numpy=1>, 'elemento_471': <tf.Tensor: shape=(), dtype=int64, numpy=1>, 'elemento_472': <tf.Tensor: shape=(), dtype=int64, numpy=1>, 'elemento_473': <tf.Tensor: shape=(), dtype=int64, numpy=1>, 'elemento_474': <tf.Tensor: shape=(), dtype=int64, numpy=1>, 'elemento_475': <tf.Tensor: shape=(), dtype=int64, numpy=1>, 'elemento_476': <tf.Tensor: shape=(), dtype=int64, numpy=1>, 'elemento_477': <tf.Tensor: shape=(), dtype=int64, numpy=0>, 'elemento_478': <tf.Tensor: shape=(), dtype=int64, numpy=0>, 'elemento_479': <tf.Tensor: shape=(), dtype=int64, numpy=1>, 'elemento_480': <tf.Tensor: shape=(), dtype=int64, numpy=1>, 'elemento_481': <tf.Tensor: shape=(), dtype=int64, numpy=1>, 'elemento_482': <tf.Tensor: shape=(), dtype=int64, numpy=1>, 'elemento_483': <tf.Tensor: shape=(), dtype=int64, numpy=1>, 'elemento_484': <tf.Tensor: shape=(), dtype=int64, numpy=0>, 'elemento_485': <tf.Tensor: shape=(), dtype=int64, numpy=1>, 'elemento_486': <tf.Tensor: shape=(), dtype=int64, numpy=0>, 'elemento_487': <tf.Tensor: shape=(), dtype=int64, numpy=1>, 'elemento_488': <tf.Tensor: shape=(), dtype=int64, numpy=1>, 'elemento_489': <tf.Tensor: shape=(), dtype=int64, numpy=0>, 'elemento_490': <tf.Tensor: shape=(), dtype=int64, numpy=0>, 'elemento_491': <tf.Tensor: shape=(), dtype=int64, numpy=1>, 'elemento_492': <tf.Tensor: shape=(), dtype=int64, numpy=1>, 'elemento_493': <tf.Tensor: shape=(), dtype=int64, numpy=1>, 'elemento_494': <tf.Tensor: shape=(), dtype=int64, numpy=1>, 'elemento_495': <tf.Tensor: shape=(), dtype=int64, numpy=1>, 'elemento_496': <tf.Tensor: shape=(), dtype=int64, numpy=1>, 'elemento_497': <tf.Tensor: shape=(), dtype=int64, numpy=1>, 'elemento_498': <tf.Tensor: shape=(), dtype=int64, numpy=0>, 'elemento_499': <tf.Tensor: shape=(), dtype=int64, numpy=1>, 'elemento_500': <tf.Tensor: shape=(), dtype=int64, numpy=1>, 'elemento_501': <tf.Tensor: shape=(), dtype=int64, numpy=0>, 'elemento_502': <tf.Tensor: shape=(), dtype=int64, numpy=1>, 'elemento_503': <tf.Tensor: shape=(), dtype=int64, numpy=1>, 'elemento_504': <tf.Tensor: shape=(), dtype=int64, numpy=1>, 'elemento_505': <tf.Tensor: shape=(), dtype=int64, numpy=0>, 'elemento_506': <tf.Tensor: shape=(), dtype=int64, numpy=0>, 'elemento_507': <tf.Tensor: shape=(), dtype=int64, numpy=1>, 'elemento_508': <tf.Tensor: shape=(), dtype=int64, numpy=1>, 'elemento_509': <tf.Tensor: shape=(), dtype=int64, numpy=1>, 'elemento_510': <tf.Tensor: shape=(), dtype=int64, numpy=1>, 'elemento_511': <tf.Tensor: shape=(), dtype=int64, numpy=1>, 'elemento_512': <tf.Tensor: shape=(), dtype=int64, numpy=1>, 'elemento_513': <tf.Tensor: shape=(), dtype=int64, numpy=1>, 'elemento_514': <tf.Tensor: shape=(), dtype=int64, numpy=1>, 'elemento_515': <tf.Tensor: shape=(), dtype=int64, numpy=1>, 'elemento_516': <tf.Tensor: shape=(), dtype=int64, numpy=0>, 'elemento_517': <tf.Tensor: shape=(), dtype=int64, numpy=1>, 'elemento_518': <tf.Tensor: shape=(), dtype=int64, numpy=1>, 'elemento_519': <tf.Tensor: shape=(), dtype=int64, numpy=0>, 'elemento_520': <tf.Tensor: shape=(), dtype=int64, numpy=0>, 'elemento_521': <tf.Tensor: shape=(), dtype=int64, numpy=1>, 'elemento_522': <tf.Tensor: shape=(), dtype=int64, numpy=1>, 'elemento_523': <tf.Tensor: shape=(), dtype=int64, numpy=1>, 'elemento_524': <tf.Tensor: shape=(), dtype=int64, numpy=1>, 'elemento_525': <tf.Tensor: shape=(), dtype=int64, numpy=0>, 'elemento_526': <tf.Tensor: shape=(), dtype=int64, numpy=1>, 'elemento_527': <tf.Tensor: shape=(), dtype=int64, numpy=0>, 'elemento_528': <tf.Tensor: shape=(), dtype=int64, numpy=1>, 'elemento_529': <tf.Tensor: shape=(), dtype=int64, numpy=0>, 'elemento_530': <tf.Tensor: shape=(), dtype=int64, numpy=1>, 'elemento_531': <tf.Tensor: shape=(), dtype=int64, numpy=1>, 'elemento_532': <tf.Tensor: shape=(), dtype=int64, numpy=0>, 'elemento_533': <tf.Tensor: shape=(), dtype=int64, numpy=1>, 'elemento_534': <tf.Tensor: shape=(), dtype=int64, numpy=1>, 'elemento_535': <tf.Tensor: shape=(), dtype=int64, numpy=0>, 'elemento_536': <tf.Tensor: shape=(), dtype=int64, numpy=1>, 'elemento_537': <tf.Tensor: shape=(), dtype=int64, numpy=1>, 'elemento_538': <tf.Tensor: shape=(), dtype=int64, numpy=0>, 'elemento_539': <tf.Tensor: shape=(), dtype=int64, numpy=0>, 'elemento_540': <tf.Tensor: shape=(), dtype=int64, numpy=1>, 'elemento_541': <tf.Tensor: shape=(), dtype=int64, numpy=0>, 'elemento_542': <tf.Tensor: shape=(), dtype=int64, numpy=0>, 'elemento_543': <tf.Tensor: shape=(), dtype=int64, numpy=1>, 'elemento_544': <tf.Tensor: shape=(), dtype=int64, numpy=1>, 'elemento_545': <tf.Tensor: shape=(), dtype=int64, numpy=1>, 'elemento_546': <tf.Tensor: shape=(), dtype=int64, numpy=1>, 'elemento_547': <tf.Tensor: shape=(), dtype=int64, numpy=0>, 'elemento_548': <tf.Tensor: shape=(), dtype=int64, numpy=1>, 'elemento_549': <tf.Tensor: shape=(), dtype=int64, numpy=1>, 'elemento_550': <tf.Tensor: shape=(), dtype=int64, numpy=1>, 'elemento_551': <tf.Tensor: shape=(), dtype=int64, numpy=1>, 'elemento_552': <tf.Tensor: shape=(), dtype=int64, numpy=1>, 'elemento_553': <tf.Tensor: shape=(), dtype=int64, numpy=1>, 'elemento_554': <tf.Tensor: shape=(), dtype=int64, numpy=0>, 'elemento_555': <tf.Tensor: shape=(), dtype=int64, numpy=0>, 'elemento_556': <tf.Tensor: shape=(), dtype=int64, numpy=1>, 'elemento_557': <tf.Tensor: shape=(), dtype=int64, numpy=1>, 'elemento_558': <tf.Tensor: shape=(), dtype=int64, numpy=1>, 'elemento_559': <tf.Tensor: shape=(), dtype=int64, numpy=1>, 'elemento_560': <tf.Tensor: shape=(), dtype=int64, numpy=1>, 'elemento_561': <tf.Tensor: shape=(), dtype=int64, numpy=0>, 'elemento_562': <tf.Tensor: shape=(), dtype=int64, numpy=1>, 'elemento_563': <tf.Tensor: shape=(), dtype=int64, numpy=0>, 'elemento_564': <tf.Tensor: shape=(), dtype=int64, numpy=1>, 'elemento_565': <tf.Tensor: shape=(), dtype=int64, numpy=1>, 'elemento_566': <tf.Tensor: shape=(), dtype=int64, numpy=1>, 'elemento_567': <tf.Tensor: shape=(), dtype=int64, numpy=0>, 'elemento_568': <tf.Tensor: shape=(), dtype=int64, numpy=1>, 'elemento_569': <tf.Tensor: shape=(), dtype=int64, numpy=1>, 'elemento_570': <tf.Tensor: shape=(), dtype=int64, numpy=1>, 'elemento_571': <tf.Tensor: shape=(), dtype=int64, numpy=1>, 'elemento_572': <tf.Tensor: shape=(), dtype=int64, numpy=1>, 'elemento_573': <tf.Tensor: shape=(), dtype=int64, numpy=1>, 'elemento_574': <tf.Tensor: shape=(), dtype=int64, numpy=1>, 'elemento_575': <tf.Tensor: shape=(), dtype=int64, numpy=1>, 'elemento_576': <tf.Tensor: shape=(), dtype=int64, numpy=1>, 'elemento_577': <tf.Tensor: shape=(), dtype=int64, numpy=1>, 'elemento_578': <tf.Tensor: shape=(), dtype=int64, numpy=0>, 'elemento_579': <tf.Tensor: shape=(), dtype=int64, numpy=1>, 'elemento_580': <tf.Tensor: shape=(), dtype=int64, numpy=1>, 'elemento_581': <tf.Tensor: shape=(), dtype=int64, numpy=0>, 'elemento_582': <tf.Tensor: shape=(), dtype=int64, numpy=1>, 'elemento_583': <tf.Tensor: shape=(), dtype=int64, numpy=0>, 'elemento_584': <tf.Tensor: shape=(), dtype=int64, numpy=1>, 'elemento_585': <tf.Tensor: shape=(), dtype=int64, numpy=0>, 'elemento_586': <tf.Tensor: shape=(), dtype=int64, numpy=1>, 'elemento_587': <tf.Tensor: shape=(), dtype=int64, numpy=1>, 'elemento_588': <tf.Tensor: shape=(), dtype=int64, numpy=1>, 'elemento_589': <tf.Tensor: shape=(), dtype=int64, numpy=1>, 'elemento_590': <tf.Tensor: shape=(), dtype=int64, numpy=1>, 'elemento_591': <tf.Tensor: shape=(), dtype=int64, numpy=0>, 'elemento_592': <tf.Tensor: shape=(), dtype=int64, numpy=0>, 'elemento_593': <tf.Tensor: shape=(), dtype=int64, numpy=1>, 'elemento_594': <tf.Tensor: shape=(), dtype=int64, numpy=1>, 'elemento_595': <tf.Tensor: shape=(), dtype=int64, numpy=1>, 'elemento_596': <tf.Tensor: shape=(), dtype=int64, numpy=1>, 'elemento_597': <tf.Tensor: shape=(), dtype=int64, numpy=0>, 'elemento_598': <tf.Tensor: shape=(), dtype=int64, numpy=1>, 'elemento_599': <tf.Tensor: shape=(), dtype=int64, numpy=1>, 'elemento_600': <tf.Tensor: shape=(), dtype=int64, numpy=1>}\n",
            "Target: tf.Tensor(0.0038547063178036795, shape=(), dtype=float64)\n"
          ],
          "name": "stdout"
        }
      ]
    },
    {
      "cell_type": "code",
      "metadata": {
        "id": "r18wrKY9jPyU"
      },
      "source": [
        "train_ds = train_ds.batch(32)\n",
        "val_ds = val_ds.batch(32)"
      ],
      "execution_count": 16,
      "outputs": []
    },
    {
      "cell_type": "markdown",
      "metadata": {
        "id": "azbraUU73JTl"
      },
      "source": [
        "## Definindo o modelo RNA"
      ]
    },
    {
      "cell_type": "markdown",
      "metadata": {
        "id": "0D-SVa_VC8ec"
      },
      "source": [
        "A camada de entrada deve ter 600 neurônios, a de saída apenas 4.\n",
        "\n",
        "A ideia é que a última camada tenha ativação ReLU, que oferece saída 'analógica'."
      ]
    },
    {
      "cell_type": "code",
      "metadata": {
        "id": "yWc9MuHH3IPR"
      },
      "source": [
        "model = Sequential([ \n",
        "  Dense(units = 50, input_shape = (600,), activation = 'relu', input_dim = 600),\n",
        "  Dense(units = 25, activation = 'relu'),\n",
        "  Dense(units = 10, activation = 'relu'),\n",
        "  Dense(units = 4, activation = 'relu')\n",
        "])\n",
        "\n",
        "#  Dense(units = 50, input_shape = (600,), activation = 'relu', input_dim = 600),"
      ],
      "execution_count": 18,
      "outputs": []
    },
    {
      "cell_type": "code",
      "metadata": {
        "id": "TOT8jK26AQqd",
        "colab": {
          "base_uri": "https://localhost:8080/"
        },
        "outputId": "2caf53cb-71f4-4b82-9cdc-3a962b35c90f"
      },
      "source": [
        "model.summary() # Essa expressão permite visualizar o modelo antes de executá-lo"
      ],
      "execution_count": 19,
      "outputs": [
        {
          "output_type": "stream",
          "text": [
            "Model: \"sequential\"\n",
            "_________________________________________________________________\n",
            "Layer (type)                 Output Shape              Param #   \n",
            "=================================================================\n",
            "dense (Dense)                (None, 50)                30050     \n",
            "_________________________________________________________________\n",
            "dense_1 (Dense)              (None, 25)                1275      \n",
            "_________________________________________________________________\n",
            "dense_2 (Dense)              (None, 10)                260       \n",
            "_________________________________________________________________\n",
            "dense_3 (Dense)              (None, 4)                 44        \n",
            "=================================================================\n",
            "Total params: 31,629\n",
            "Trainable params: 31,629\n",
            "Non-trainable params: 0\n",
            "_________________________________________________________________\n"
          ],
          "name": "stdout"
        }
      ]
    },
    {
      "cell_type": "code",
      "metadata": {
        "id": "EuAVprg1lCT9"
      },
      "source": [
        "model.compile(optimizer=Adam(learning_rate=0.0001), loss='sparse_categorical_crossentropy', metrics=['accuracy'])"
      ],
      "execution_count": 20,
      "outputs": []
    },
    {
      "cell_type": "code",
      "metadata": {
        "colab": {
          "base_uri": "https://localhost:8080/",
          "height": 680
        },
        "id": "LQyv7Uapmw0F",
        "outputId": "e6a7ff88-e8c7-4549-c0b8-e2ecf5041713"
      },
      "source": [
        "model.fit(x=train_ds, batch_size=10, epochs=30, shuffle=True, verbose=2)"
      ],
      "execution_count": 23,
      "outputs": [
        {
          "output_type": "stream",
          "text": [
            "Epoch 1/30\n"
          ],
          "name": "stdout"
        },
        {
          "output_type": "error",
          "ename": "ValueError",
          "evalue": "ignored",
          "traceback": [
            "\u001b[0;31m---------------------------------------------------------------------------\u001b[0m",
            "\u001b[0;31mValueError\u001b[0m                                Traceback (most recent call last)",
            "\u001b[0;32m<ipython-input-23-6c60bed08b2c>\u001b[0m in \u001b[0;36m<module>\u001b[0;34m()\u001b[0m\n\u001b[0;32m----> 1\u001b[0;31m \u001b[0mmodel\u001b[0m\u001b[0;34m.\u001b[0m\u001b[0mfit\u001b[0m\u001b[0;34m(\u001b[0m\u001b[0mx\u001b[0m\u001b[0;34m=\u001b[0m\u001b[0mtrain_ds\u001b[0m\u001b[0;34m,\u001b[0m \u001b[0mbatch_size\u001b[0m\u001b[0;34m=\u001b[0m\u001b[0;36m10\u001b[0m\u001b[0;34m,\u001b[0m \u001b[0mepochs\u001b[0m\u001b[0;34m=\u001b[0m\u001b[0;36m30\u001b[0m\u001b[0;34m,\u001b[0m \u001b[0mshuffle\u001b[0m\u001b[0;34m=\u001b[0m\u001b[0;32mTrue\u001b[0m\u001b[0;34m,\u001b[0m \u001b[0mverbose\u001b[0m\u001b[0;34m=\u001b[0m\u001b[0;36m2\u001b[0m\u001b[0;34m)\u001b[0m\u001b[0;34m\u001b[0m\u001b[0;34m\u001b[0m\u001b[0m\n\u001b[0m",
            "\u001b[0;32m/usr/local/lib/python3.7/dist-packages/keras/engine/training.py\u001b[0m in \u001b[0;36mfit\u001b[0;34m(self, x, y, batch_size, epochs, verbose, callbacks, validation_split, validation_data, shuffle, class_weight, sample_weight, initial_epoch, steps_per_epoch, validation_steps, validation_batch_size, validation_freq, max_queue_size, workers, use_multiprocessing)\u001b[0m\n\u001b[1;32m   1156\u001b[0m                 _r=1):\n\u001b[1;32m   1157\u001b[0m               \u001b[0mcallbacks\u001b[0m\u001b[0;34m.\u001b[0m\u001b[0mon_train_batch_begin\u001b[0m\u001b[0;34m(\u001b[0m\u001b[0mstep\u001b[0m\u001b[0;34m)\u001b[0m\u001b[0;34m\u001b[0m\u001b[0;34m\u001b[0m\u001b[0m\n\u001b[0;32m-> 1158\u001b[0;31m               \u001b[0mtmp_logs\u001b[0m \u001b[0;34m=\u001b[0m \u001b[0mself\u001b[0m\u001b[0;34m.\u001b[0m\u001b[0mtrain_function\u001b[0m\u001b[0;34m(\u001b[0m\u001b[0miterator\u001b[0m\u001b[0;34m)\u001b[0m\u001b[0;34m\u001b[0m\u001b[0;34m\u001b[0m\u001b[0m\n\u001b[0m\u001b[1;32m   1159\u001b[0m               \u001b[0;32mif\u001b[0m \u001b[0mdata_handler\u001b[0m\u001b[0;34m.\u001b[0m\u001b[0mshould_sync\u001b[0m\u001b[0;34m:\u001b[0m\u001b[0;34m\u001b[0m\u001b[0;34m\u001b[0m\u001b[0m\n\u001b[1;32m   1160\u001b[0m                 \u001b[0mcontext\u001b[0m\u001b[0;34m.\u001b[0m\u001b[0masync_wait\u001b[0m\u001b[0;34m(\u001b[0m\u001b[0;34m)\u001b[0m\u001b[0;34m\u001b[0m\u001b[0;34m\u001b[0m\u001b[0m\n",
            "\u001b[0;32m/usr/local/lib/python3.7/dist-packages/tensorflow/python/eager/def_function.py\u001b[0m in \u001b[0;36m__call__\u001b[0;34m(self, *args, **kwds)\u001b[0m\n\u001b[1;32m    887\u001b[0m \u001b[0;34m\u001b[0m\u001b[0m\n\u001b[1;32m    888\u001b[0m       \u001b[0;32mwith\u001b[0m \u001b[0mOptionalXlaContext\u001b[0m\u001b[0;34m(\u001b[0m\u001b[0mself\u001b[0m\u001b[0;34m.\u001b[0m\u001b[0m_jit_compile\u001b[0m\u001b[0;34m)\u001b[0m\u001b[0;34m:\u001b[0m\u001b[0;34m\u001b[0m\u001b[0;34m\u001b[0m\u001b[0m\n\u001b[0;32m--> 889\u001b[0;31m         \u001b[0mresult\u001b[0m \u001b[0;34m=\u001b[0m \u001b[0mself\u001b[0m\u001b[0;34m.\u001b[0m\u001b[0m_call\u001b[0m\u001b[0;34m(\u001b[0m\u001b[0;34m*\u001b[0m\u001b[0margs\u001b[0m\u001b[0;34m,\u001b[0m \u001b[0;34m**\u001b[0m\u001b[0mkwds\u001b[0m\u001b[0;34m)\u001b[0m\u001b[0;34m\u001b[0m\u001b[0;34m\u001b[0m\u001b[0m\n\u001b[0m\u001b[1;32m    890\u001b[0m \u001b[0;34m\u001b[0m\u001b[0m\n\u001b[1;32m    891\u001b[0m       \u001b[0mnew_tracing_count\u001b[0m \u001b[0;34m=\u001b[0m \u001b[0mself\u001b[0m\u001b[0;34m.\u001b[0m\u001b[0mexperimental_get_tracing_count\u001b[0m\u001b[0;34m(\u001b[0m\u001b[0;34m)\u001b[0m\u001b[0;34m\u001b[0m\u001b[0;34m\u001b[0m\u001b[0m\n",
            "\u001b[0;32m/usr/local/lib/python3.7/dist-packages/tensorflow/python/eager/def_function.py\u001b[0m in \u001b[0;36m_call\u001b[0;34m(self, *args, **kwds)\u001b[0m\n\u001b[1;32m    931\u001b[0m       \u001b[0;31m# This is the first call of __call__, so we have to initialize.\u001b[0m\u001b[0;34m\u001b[0m\u001b[0;34m\u001b[0m\u001b[0;34m\u001b[0m\u001b[0m\n\u001b[1;32m    932\u001b[0m       \u001b[0minitializers\u001b[0m \u001b[0;34m=\u001b[0m \u001b[0;34m[\u001b[0m\u001b[0;34m]\u001b[0m\u001b[0;34m\u001b[0m\u001b[0;34m\u001b[0m\u001b[0m\n\u001b[0;32m--> 933\u001b[0;31m       \u001b[0mself\u001b[0m\u001b[0;34m.\u001b[0m\u001b[0m_initialize\u001b[0m\u001b[0;34m(\u001b[0m\u001b[0margs\u001b[0m\u001b[0;34m,\u001b[0m \u001b[0mkwds\u001b[0m\u001b[0;34m,\u001b[0m \u001b[0madd_initializers_to\u001b[0m\u001b[0;34m=\u001b[0m\u001b[0minitializers\u001b[0m\u001b[0;34m)\u001b[0m\u001b[0;34m\u001b[0m\u001b[0;34m\u001b[0m\u001b[0m\n\u001b[0m\u001b[1;32m    934\u001b[0m     \u001b[0;32mfinally\u001b[0m\u001b[0;34m:\u001b[0m\u001b[0;34m\u001b[0m\u001b[0;34m\u001b[0m\u001b[0m\n\u001b[1;32m    935\u001b[0m       \u001b[0;31m# At this point we know that the initialization is complete (or less\u001b[0m\u001b[0;34m\u001b[0m\u001b[0;34m\u001b[0m\u001b[0;34m\u001b[0m\u001b[0m\n",
            "\u001b[0;32m/usr/local/lib/python3.7/dist-packages/tensorflow/python/eager/def_function.py\u001b[0m in \u001b[0;36m_initialize\u001b[0;34m(self, args, kwds, add_initializers_to)\u001b[0m\n\u001b[1;32m    762\u001b[0m     self._concrete_stateful_fn = (\n\u001b[1;32m    763\u001b[0m         self._stateful_fn._get_concrete_function_internal_garbage_collected(  # pylint: disable=protected-access\n\u001b[0;32m--> 764\u001b[0;31m             *args, **kwds))\n\u001b[0m\u001b[1;32m    765\u001b[0m \u001b[0;34m\u001b[0m\u001b[0m\n\u001b[1;32m    766\u001b[0m     \u001b[0;32mdef\u001b[0m \u001b[0minvalid_creator_scope\u001b[0m\u001b[0;34m(\u001b[0m\u001b[0;34m*\u001b[0m\u001b[0munused_args\u001b[0m\u001b[0;34m,\u001b[0m \u001b[0;34m**\u001b[0m\u001b[0munused_kwds\u001b[0m\u001b[0;34m)\u001b[0m\u001b[0;34m:\u001b[0m\u001b[0;34m\u001b[0m\u001b[0;34m\u001b[0m\u001b[0m\n",
            "\u001b[0;32m/usr/local/lib/python3.7/dist-packages/tensorflow/python/eager/function.py\u001b[0m in \u001b[0;36m_get_concrete_function_internal_garbage_collected\u001b[0;34m(self, *args, **kwargs)\u001b[0m\n\u001b[1;32m   3048\u001b[0m       \u001b[0margs\u001b[0m\u001b[0;34m,\u001b[0m \u001b[0mkwargs\u001b[0m \u001b[0;34m=\u001b[0m \u001b[0;32mNone\u001b[0m\u001b[0;34m,\u001b[0m \u001b[0;32mNone\u001b[0m\u001b[0;34m\u001b[0m\u001b[0;34m\u001b[0m\u001b[0m\n\u001b[1;32m   3049\u001b[0m     \u001b[0;32mwith\u001b[0m \u001b[0mself\u001b[0m\u001b[0;34m.\u001b[0m\u001b[0m_lock\u001b[0m\u001b[0;34m:\u001b[0m\u001b[0;34m\u001b[0m\u001b[0;34m\u001b[0m\u001b[0m\n\u001b[0;32m-> 3050\u001b[0;31m       \u001b[0mgraph_function\u001b[0m\u001b[0;34m,\u001b[0m \u001b[0m_\u001b[0m \u001b[0;34m=\u001b[0m \u001b[0mself\u001b[0m\u001b[0;34m.\u001b[0m\u001b[0m_maybe_define_function\u001b[0m\u001b[0;34m(\u001b[0m\u001b[0margs\u001b[0m\u001b[0;34m,\u001b[0m \u001b[0mkwargs\u001b[0m\u001b[0;34m)\u001b[0m\u001b[0;34m\u001b[0m\u001b[0;34m\u001b[0m\u001b[0m\n\u001b[0m\u001b[1;32m   3051\u001b[0m     \u001b[0;32mreturn\u001b[0m \u001b[0mgraph_function\u001b[0m\u001b[0;34m\u001b[0m\u001b[0;34m\u001b[0m\u001b[0m\n\u001b[1;32m   3052\u001b[0m \u001b[0;34m\u001b[0m\u001b[0m\n",
            "\u001b[0;32m/usr/local/lib/python3.7/dist-packages/tensorflow/python/eager/function.py\u001b[0m in \u001b[0;36m_maybe_define_function\u001b[0;34m(self, args, kwargs)\u001b[0m\n\u001b[1;32m   3442\u001b[0m \u001b[0;34m\u001b[0m\u001b[0m\n\u001b[1;32m   3443\u001b[0m           \u001b[0mself\u001b[0m\u001b[0;34m.\u001b[0m\u001b[0m_function_cache\u001b[0m\u001b[0;34m.\u001b[0m\u001b[0mmissed\u001b[0m\u001b[0;34m.\u001b[0m\u001b[0madd\u001b[0m\u001b[0;34m(\u001b[0m\u001b[0mcall_context_key\u001b[0m\u001b[0;34m)\u001b[0m\u001b[0;34m\u001b[0m\u001b[0;34m\u001b[0m\u001b[0m\n\u001b[0;32m-> 3444\u001b[0;31m           \u001b[0mgraph_function\u001b[0m \u001b[0;34m=\u001b[0m \u001b[0mself\u001b[0m\u001b[0;34m.\u001b[0m\u001b[0m_create_graph_function\u001b[0m\u001b[0;34m(\u001b[0m\u001b[0margs\u001b[0m\u001b[0;34m,\u001b[0m \u001b[0mkwargs\u001b[0m\u001b[0;34m)\u001b[0m\u001b[0;34m\u001b[0m\u001b[0;34m\u001b[0m\u001b[0m\n\u001b[0m\u001b[1;32m   3445\u001b[0m           \u001b[0mself\u001b[0m\u001b[0;34m.\u001b[0m\u001b[0m_function_cache\u001b[0m\u001b[0;34m.\u001b[0m\u001b[0mprimary\u001b[0m\u001b[0;34m[\u001b[0m\u001b[0mcache_key\u001b[0m\u001b[0;34m]\u001b[0m \u001b[0;34m=\u001b[0m \u001b[0mgraph_function\u001b[0m\u001b[0;34m\u001b[0m\u001b[0;34m\u001b[0m\u001b[0m\n\u001b[1;32m   3446\u001b[0m \u001b[0;34m\u001b[0m\u001b[0m\n",
            "\u001b[0;32m/usr/local/lib/python3.7/dist-packages/tensorflow/python/eager/function.py\u001b[0m in \u001b[0;36m_create_graph_function\u001b[0;34m(self, args, kwargs, override_flat_arg_shapes)\u001b[0m\n\u001b[1;32m   3287\u001b[0m             \u001b[0marg_names\u001b[0m\u001b[0;34m=\u001b[0m\u001b[0marg_names\u001b[0m\u001b[0;34m,\u001b[0m\u001b[0;34m\u001b[0m\u001b[0;34m\u001b[0m\u001b[0m\n\u001b[1;32m   3288\u001b[0m             \u001b[0moverride_flat_arg_shapes\u001b[0m\u001b[0;34m=\u001b[0m\u001b[0moverride_flat_arg_shapes\u001b[0m\u001b[0;34m,\u001b[0m\u001b[0;34m\u001b[0m\u001b[0;34m\u001b[0m\u001b[0m\n\u001b[0;32m-> 3289\u001b[0;31m             capture_by_value=self._capture_by_value),\n\u001b[0m\u001b[1;32m   3290\u001b[0m         \u001b[0mself\u001b[0m\u001b[0;34m.\u001b[0m\u001b[0m_function_attributes\u001b[0m\u001b[0;34m,\u001b[0m\u001b[0;34m\u001b[0m\u001b[0;34m\u001b[0m\u001b[0m\n\u001b[1;32m   3291\u001b[0m         \u001b[0mfunction_spec\u001b[0m\u001b[0;34m=\u001b[0m\u001b[0mself\u001b[0m\u001b[0;34m.\u001b[0m\u001b[0mfunction_spec\u001b[0m\u001b[0;34m,\u001b[0m\u001b[0;34m\u001b[0m\u001b[0;34m\u001b[0m\u001b[0m\n",
            "\u001b[0;32m/usr/local/lib/python3.7/dist-packages/tensorflow/python/framework/func_graph.py\u001b[0m in \u001b[0;36mfunc_graph_from_py_func\u001b[0;34m(name, python_func, args, kwargs, signature, func_graph, autograph, autograph_options, add_control_dependencies, arg_names, op_return_value, collections, capture_by_value, override_flat_arg_shapes)\u001b[0m\n\u001b[1;32m    997\u001b[0m         \u001b[0m_\u001b[0m\u001b[0;34m,\u001b[0m \u001b[0moriginal_func\u001b[0m \u001b[0;34m=\u001b[0m \u001b[0mtf_decorator\u001b[0m\u001b[0;34m.\u001b[0m\u001b[0munwrap\u001b[0m\u001b[0;34m(\u001b[0m\u001b[0mpython_func\u001b[0m\u001b[0;34m)\u001b[0m\u001b[0;34m\u001b[0m\u001b[0;34m\u001b[0m\u001b[0m\n\u001b[1;32m    998\u001b[0m \u001b[0;34m\u001b[0m\u001b[0m\n\u001b[0;32m--> 999\u001b[0;31m       \u001b[0mfunc_outputs\u001b[0m \u001b[0;34m=\u001b[0m \u001b[0mpython_func\u001b[0m\u001b[0;34m(\u001b[0m\u001b[0;34m*\u001b[0m\u001b[0mfunc_args\u001b[0m\u001b[0;34m,\u001b[0m \u001b[0;34m**\u001b[0m\u001b[0mfunc_kwargs\u001b[0m\u001b[0;34m)\u001b[0m\u001b[0;34m\u001b[0m\u001b[0;34m\u001b[0m\u001b[0m\n\u001b[0m\u001b[1;32m   1000\u001b[0m \u001b[0;34m\u001b[0m\u001b[0m\n\u001b[1;32m   1001\u001b[0m       \u001b[0;31m# invariant: `func_outputs` contains only Tensors, CompositeTensors,\u001b[0m\u001b[0;34m\u001b[0m\u001b[0;34m\u001b[0m\u001b[0;34m\u001b[0m\u001b[0m\n",
            "\u001b[0;32m/usr/local/lib/python3.7/dist-packages/tensorflow/python/eager/def_function.py\u001b[0m in \u001b[0;36mwrapped_fn\u001b[0;34m(*args, **kwds)\u001b[0m\n\u001b[1;32m    670\u001b[0m         \u001b[0;31m# the function a weak reference to itself to avoid a reference cycle.\u001b[0m\u001b[0;34m\u001b[0m\u001b[0;34m\u001b[0m\u001b[0;34m\u001b[0m\u001b[0m\n\u001b[1;32m    671\u001b[0m         \u001b[0;32mwith\u001b[0m \u001b[0mOptionalXlaContext\u001b[0m\u001b[0;34m(\u001b[0m\u001b[0mcompile_with_xla\u001b[0m\u001b[0;34m)\u001b[0m\u001b[0;34m:\u001b[0m\u001b[0;34m\u001b[0m\u001b[0;34m\u001b[0m\u001b[0m\n\u001b[0;32m--> 672\u001b[0;31m           \u001b[0mout\u001b[0m \u001b[0;34m=\u001b[0m \u001b[0mweak_wrapped_fn\u001b[0m\u001b[0;34m(\u001b[0m\u001b[0;34m)\u001b[0m\u001b[0;34m.\u001b[0m\u001b[0m__wrapped__\u001b[0m\u001b[0;34m(\u001b[0m\u001b[0;34m*\u001b[0m\u001b[0margs\u001b[0m\u001b[0;34m,\u001b[0m \u001b[0;34m**\u001b[0m\u001b[0mkwds\u001b[0m\u001b[0;34m)\u001b[0m\u001b[0;34m\u001b[0m\u001b[0;34m\u001b[0m\u001b[0m\n\u001b[0m\u001b[1;32m    673\u001b[0m         \u001b[0;32mreturn\u001b[0m \u001b[0mout\u001b[0m\u001b[0;34m\u001b[0m\u001b[0;34m\u001b[0m\u001b[0m\n\u001b[1;32m    674\u001b[0m \u001b[0;34m\u001b[0m\u001b[0m\n",
            "\u001b[0;32m/usr/local/lib/python3.7/dist-packages/tensorflow/python/framework/func_graph.py\u001b[0m in \u001b[0;36mwrapper\u001b[0;34m(*args, **kwargs)\u001b[0m\n\u001b[1;32m    984\u001b[0m           \u001b[0;32mexcept\u001b[0m \u001b[0mException\u001b[0m \u001b[0;32mas\u001b[0m \u001b[0me\u001b[0m\u001b[0;34m:\u001b[0m  \u001b[0;31m# pylint:disable=broad-except\u001b[0m\u001b[0;34m\u001b[0m\u001b[0;34m\u001b[0m\u001b[0m\n\u001b[1;32m    985\u001b[0m             \u001b[0;32mif\u001b[0m \u001b[0mhasattr\u001b[0m\u001b[0;34m(\u001b[0m\u001b[0me\u001b[0m\u001b[0;34m,\u001b[0m \u001b[0;34m\"ag_error_metadata\"\u001b[0m\u001b[0;34m)\u001b[0m\u001b[0;34m:\u001b[0m\u001b[0;34m\u001b[0m\u001b[0;34m\u001b[0m\u001b[0m\n\u001b[0;32m--> 986\u001b[0;31m               \u001b[0;32mraise\u001b[0m \u001b[0me\u001b[0m\u001b[0;34m.\u001b[0m\u001b[0mag_error_metadata\u001b[0m\u001b[0;34m.\u001b[0m\u001b[0mto_exception\u001b[0m\u001b[0;34m(\u001b[0m\u001b[0me\u001b[0m\u001b[0;34m)\u001b[0m\u001b[0;34m\u001b[0m\u001b[0;34m\u001b[0m\u001b[0m\n\u001b[0m\u001b[1;32m    987\u001b[0m             \u001b[0;32melse\u001b[0m\u001b[0;34m:\u001b[0m\u001b[0;34m\u001b[0m\u001b[0;34m\u001b[0m\u001b[0m\n\u001b[1;32m    988\u001b[0m               \u001b[0;32mraise\u001b[0m\u001b[0;34m\u001b[0m\u001b[0;34m\u001b[0m\u001b[0m\n",
            "\u001b[0;31mValueError\u001b[0m: in user code:\n\n    /usr/local/lib/python3.7/dist-packages/keras/engine/training.py:830 train_function  *\n        return step_function(self, iterator)\n    /usr/local/lib/python3.7/dist-packages/keras/engine/training.py:813 run_step  *\n        outputs = model.train_step(data)\n    /usr/local/lib/python3.7/dist-packages/keras/engine/training.py:770 train_step  *\n        y_pred = self(x, training=True)\n    /usr/local/lib/python3.7/dist-packages/keras/engine/base_layer.py:989 __call__  *\n        input_spec.assert_input_compatibility(self.input_spec, inputs, self.name)\n    /usr/local/lib/python3.7/dist-packages/keras/engine/input_spec.py:197 assert_input_compatibility  *\n        raise ValueError('Layer ' + layer_name + ' expects ' +\n\n    ValueError: Layer sequential expects 1 input(s), but it received 603 input tensors. Inputs received: [<tf.Tensor 'ExpandDims:0' shape=(None, 1) dtype=float64>, <tf.Tensor 'ExpandDims_1:0' shape=(None, 1) dtype=float64>, <tf.Tensor 'ExpandDims_2:0' shape=(None, 1) dtype=float64>, <tf.Tensor 'ExpandDims_3:0' shape=(None, 1) dtype=int64>, <tf.Tensor 'ExpandDims_4:0' shape=(None, 1) dtype=int64>, <tf.Tensor 'ExpandDims_5:0' shape=(None, 1) dtype=int64>, <tf.Tensor 'ExpandDims_6:0' shape=(None, 1) dtype=int64>, <tf.Tensor 'ExpandDims_7:0' shape=(None, 1) dtype=int64>, <tf.Tensor 'ExpandDims_8:0' shape=(None, 1) dtype=int64>, <tf.Tensor 'ExpandDims_9:0' shape=(None, 1) dtype=int64>, <tf.Tensor 'ExpandDims_10:0' shape=(None, 1) dtype=int64>, <tf.Tensor 'ExpandDims_11:0' shape=(None, 1) dtype=int64>, <tf.Tensor 'ExpandDims_12:0' shape=(None, 1) dtype=int64>, <tf.Tensor 'ExpandDims_13:0' shape=(None, 1) dtype=int64>, <tf.Tensor 'ExpandDims_14:0' shape=(None, 1) dtype=int64>, <tf.Tensor 'ExpandDims_15:0' shape=(None, 1) dtype=int64>, <tf.Tensor 'ExpandDims_16:0' shape=(None, 1) dtype=int64>, <tf.Tensor 'ExpandDims_17:0' shape=(None, 1) dtype=int64>, <tf.Tensor 'ExpandDims_18:0' shape=(None, 1) dtype=int64>, <tf.Tensor 'ExpandDims_19:0' shape=(None, 1) dtype=int64>, <tf.Tensor 'ExpandDims_20:0' shape=(None, 1) dtype=int64>, <tf.Tensor 'ExpandDims_21:0' shape=(None, 1) dtype=int64>, <tf.Tensor 'ExpandDims_22:0' shape=(None, 1) dtype=int64>, <tf.Tensor 'ExpandDims_23:0' shape=(None...\n"
          ]
        }
      ]
    }
  ]
}